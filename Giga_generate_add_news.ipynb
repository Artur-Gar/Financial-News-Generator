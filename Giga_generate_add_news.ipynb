{
 "cells": [
  {
   "cell_type": "code",
   "execution_count": 1,
   "metadata": {},
   "outputs": [],
   "source": [
    "import numpy as np\n",
    "import pandas as pd\n",
    "import os\n",
    "import yaml\n",
    "from tqdm.notebook import tqdm\n",
    "import re\n",
    "\n",
    "from Gigachat_defs import llm_output, gigachat_stub"
   ]
  },
  {
   "cell_type": "markdown",
   "metadata": {},
   "source": [
    "Set global variables and read configuration data"
   ]
  },
  {
   "cell_type": "code",
   "execution_count": null,
   "metadata": {},
   "outputs": [],
   "source": [
    "## global variables\n",
    "config_path = r\"configs\\config.yml\"\n",
    "\n",
    "# configs for the model\n",
    "with open(config_path) as fh:\n",
    "    read_config = yaml.load(fh, Loader=yaml.FullLoader)\n",
    "creds = read_config['creds']\n",
    "model = read_config['model']\n",
    "\n",
    "# prompt for request\n",
    "system_prompt_path = read_config['system_prompt_path']\n",
    "with open(system_prompt_path, 'r', encoding=\"utf8\") as system_prompt_path:\n",
    "    system_prompt_template = system_prompt_path.read()\n",
    "\n",
    "# prompt for request\n",
    "prompt_path = read_config['prompt_path']\n",
    "with open(prompt_path, 'r', encoding=\"utf8\") as prompt_file:\n",
    "    prompt_template = prompt_file.read()"
   ]
  },
  {
   "cell_type": "code",
   "execution_count": null,
   "metadata": {},
   "outputs": [
    {
     "data": {
      "text/html": [
       "<div>\n",
       "<style scoped>\n",
       "    .dataframe tbody tr th:only-of-type {\n",
       "        vertical-align: middle;\n",
       "    }\n",
       "\n",
       "    .dataframe tbody tr th {\n",
       "        vertical-align: top;\n",
       "    }\n",
       "\n",
       "    .dataframe thead th {\n",
       "        text-align: right;\n",
       "    }\n",
       "</style>\n",
       "<table border=\"1\" class=\"dataframe\">\n",
       "  <thead>\n",
       "    <tr style=\"text-align: right;\">\n",
       "      <th></th>\n",
       "      <th>type</th>\n",
       "      <th>No</th>\n",
       "      <th>text</th>\n",
       "      <th>impact</th>\n",
       "    </tr>\n",
       "  </thead>\n",
       "  <tbody>\n",
       "    <tr>\n",
       "      <th>0</th>\n",
       "      <td>Отчет о финансовых результатах</td>\n",
       "      <td>1</td>\n",
       "      <td>Чистая прибыль Газпрома в I квартале увеличила...</td>\n",
       "      <td>1.0</td>\n",
       "    </tr>\n",
       "    <tr>\n",
       "      <th>1</th>\n",
       "      <td>Отчет о финансовых результатах</td>\n",
       "      <td>2</td>\n",
       "      <td>Выручка Лукойла в II квартале достигла рекордн...</td>\n",
       "      <td>1.0</td>\n",
       "    </tr>\n",
       "    <tr>\n",
       "      <th>2</th>\n",
       "      <td>Отчет о финансовых результатах</td>\n",
       "      <td>3</td>\n",
       "      <td>Норникель объявил о значительном росте прибыли...</td>\n",
       "      <td>1.0</td>\n",
       "    </tr>\n",
       "    <tr>\n",
       "      <th>3</th>\n",
       "      <td>Отчет о финансовых результатах</td>\n",
       "      <td>4</td>\n",
       "      <td>Яндекс опубликовал отчет о финансовых результа...</td>\n",
       "      <td>1.0</td>\n",
       "    </tr>\n",
       "    <tr>\n",
       "      <th>4</th>\n",
       "      <td>Отчет о финансовых результатах</td>\n",
       "      <td>5</td>\n",
       "      <td>Роснефть сообщила о росте добычи нефти на 4% в...</td>\n",
       "      <td>1.0</td>\n",
       "    </tr>\n",
       "    <tr>\n",
       "      <th>...</th>\n",
       "      <td>...</td>\n",
       "      <td>...</td>\n",
       "      <td>...</td>\n",
       "      <td>...</td>\n",
       "    </tr>\n",
       "    <tr>\n",
       "      <th>615</th>\n",
       "      <td>Инвестиции в капитал</td>\n",
       "      <td>16</td>\n",
       "      <td>Черкизово вложит $100 млн в расширение своего...</td>\n",
       "      <td>0.8</td>\n",
       "    </tr>\n",
       "    <tr>\n",
       "      <th>616</th>\n",
       "      <td>Инвестиции в капитал</td>\n",
       "      <td>17</td>\n",
       "      <td>Русагро инвестирует $150 млн в строительство ...</td>\n",
       "      <td>0.8</td>\n",
       "    </tr>\n",
       "    <tr>\n",
       "      <th>617</th>\n",
       "      <td>Инвестиции в капитал</td>\n",
       "      <td>18</td>\n",
       "      <td>ФосАгро планирует построить новый горно-обога...</td>\n",
       "      <td>0.8</td>\n",
       "    </tr>\n",
       "    <tr>\n",
       "      <th>618</th>\n",
       "      <td>Инвестиции в капитал</td>\n",
       "      <td>19</td>\n",
       "      <td>Мечел вложит $100 млн в разработку Эльгинског...</td>\n",
       "      <td>0.8</td>\n",
       "    </tr>\n",
       "    <tr>\n",
       "      <th>619</th>\n",
       "      <td>Инвестиции в капитал</td>\n",
       "      <td>20</td>\n",
       "      <td>Полиметалл инвестирует $1 млрд в разработку Н...</td>\n",
       "      <td>0.8</td>\n",
       "    </tr>\n",
       "  </tbody>\n",
       "</table>\n",
       "<p>620 rows × 4 columns</p>\n",
       "</div>"
      ],
      "text/plain": [
       "                               type  No  \\\n",
       "0    Отчет о финансовых результатах   1   \n",
       "1    Отчет о финансовых результатах   2   \n",
       "2    Отчет о финансовых результатах   3   \n",
       "3    Отчет о финансовых результатах   4   \n",
       "4    Отчет о финансовых результатах   5   \n",
       "..                              ...  ..   \n",
       "615            Инвестиции в капитал  16   \n",
       "616            Инвестиции в капитал  17   \n",
       "617            Инвестиции в капитал  18   \n",
       "618            Инвестиции в капитал  19   \n",
       "619            Инвестиции в капитал  20   \n",
       "\n",
       "                                                  text  impact  \n",
       "0    Чистая прибыль Газпрома в I квартале увеличила...     1.0  \n",
       "1    Выручка Лукойла в II квартале достигла рекордн...     1.0  \n",
       "2    Норникель объявил о значительном росте прибыли...     1.0  \n",
       "3    Яндекс опубликовал отчет о финансовых результа...     1.0  \n",
       "4    Роснефть сообщила о росте добычи нефти на 4% в...     1.0  \n",
       "..                                                 ...     ...  \n",
       "615   Черкизово вложит $100 млн в расширение своего...     0.8  \n",
       "616   Русагро инвестирует $150 млн в строительство ...     0.8  \n",
       "617   ФосАгро планирует построить новый горно-обога...     0.8  \n",
       "618   Мечел вложит $100 млн в разработку Эльгинског...     0.8  \n",
       "619   Полиметалл инвестирует $1 млрд в разработку Н...     0.8  \n",
       "\n",
       "[620 rows x 4 columns]"
      ]
     },
     "execution_count": 4,
     "metadata": {},
     "output_type": "execute_result"
    }
   ],
   "source": [
    "# our dataset\n",
    "df_path = os.path.join(\"data\", 'synthetic_news.xlsx')\n",
    "df = pd.read_excel(df_path).iloc[:,1:]\n",
    "df"
   ]
  },
  {
   "cell_type": "code",
   "execution_count": null,
   "metadata": {},
   "outputs": [],
   "source": [
    "# Let's generate 3 additional versions for each synthetic news item: a short one, a medium one, and a long one.\n",
    "all_prompts = {}\n",
    "\n",
    "for i in range(1, df.shape[0]+1):\n",
    "    all_prompts[f'{i}_short'] = system_prompt_template.format(length_bounds = '50-70')\n",
    "    all_prompts[f'{i}_medium'] = system_prompt_template.format(length_bounds = '80-110')\n",
    "    all_prompts[f'{i}_long'] = system_prompt_template.format(length_bounds = '120-150')\n",
    "\n",
    "# news dictionary\n",
    "news_dictionary = {f'{i+1}': [news] for i, news in enumerate(df['text'])}\n",
    "# add impact of generated news\n",
    "k = 0\n",
    "for i in list(news_dictionary.keys()):\n",
    "    impact = df.loc[k,'impact']\n",
    "    news_dictionary[i].append(impact)\n",
    "    k = k+1"
   ]
  },
  {
   "cell_type": "markdown",
   "metadata": {},
   "source": [
    "Заглушка для гигачата - с первого раза он никогда не работает, нужно один раз его запустить через try-except"
   ]
  },
  {
   "cell_type": "code",
   "execution_count": null,
   "metadata": {},
   "outputs": [],
   "source": [
    "# Function to extract the number before the '_' character\n",
    "def extract_number(s):\n",
    "    match = re.match(r'(\\d+)', s)\n",
    "    return match.group(1) if match else s"
   ]
  },
  {
   "cell_type": "code",
   "execution_count": 6,
   "metadata": {},
   "outputs": [
    {
     "name": "stderr",
     "output_type": "stream",
     "text": [
      "c:\\Programming\\venvs\\telegram_news\\Lib\\site-packages\\langchain_core\\_api\\deprecation.py:139: LangChainDeprecationWarning: The method `BaseChatModel.__call__` was deprecated in langchain-core 0.1.7 and will be removed in 0.3.0. Use invoke instead.\n",
      "  warn_deprecated(\n",
      "Giga generation stopped with reason: length\n"
     ]
    },
    {
     "name": "stdout",
     "output_type": "stream",
     "text": [
      "Росбанк является одним из крупнейших банков в России,\n"
     ]
    },
    {
     "data": {
      "text/plain": [
       "'Росбанк является одним из крупнейших банков в России,'"
      ]
     },
     "execution_count": 6,
     "metadata": {},
     "output_type": "execute_result"
    }
   ],
   "source": [
    "gigachat_stub(creds, model)()"
   ]
  },
  {
   "cell_type": "code",
   "execution_count": null,
   "metadata": {},
   "outputs": [
    {
     "data": {
      "application/vnd.jupyter.widget-view+json": {
       "model_id": "82f474c2f7dd4853b10d5067e838148d",
       "version_major": 2,
       "version_minor": 0
      },
      "text/plain": [
       "  0%|          | 0/1860 [00:00<?, ?it/s]"
      ]
     },
     "metadata": {},
     "output_type": "display_data"
    }
   ],
   "source": [
    "# create final df\n",
    "final_df = pd.DataFrame({'No':[], 'text':[], 'is_synthetic':[], 'impact':[]})\n",
    "i = 1\n",
    "k =0\n",
    "for prompt in tqdm(list(all_prompts.keys())): # [:12]\n",
    "    k = k+1\n",
    "    news = news_dictionary[extract_number(prompt)][0]\n",
    "    impact = news_dictionary[extract_number(prompt)][1]\n",
    "    # add the original news item\n",
    "    if i==1:\n",
    "        curr_df = pd.DataFrame({'No':[1], 'text':[news], 'is_synthetic':[1], 'impact':[impact]})\n",
    "        final_df = pd.concat([final_df, curr_df])\n",
    "        i = 2\n",
    "    else:\n",
    "        continue\n",
    "\n",
    "    # Generate news\n",
    "    try:\n",
    "        output = llm_output(news, \n",
    "                            all_prompts[prompt],\n",
    "                            prompt_template, \n",
    "                            temperature = 1.5)     \n",
    "    except:\n",
    "        print(f'{k}_{news}')\n",
    "        output = None\n",
    "    \n",
    "    curr_df = pd.DataFrame({'No':[i], 'text':[output], 'is_synthetic':[0], 'impact':[impact]})\n",
    "    if i==4:\n",
    "        i = 1\n",
    "    else:\n",
    "        i += 1\n",
    "\n",
    "    final_df = pd.concat([final_df, curr_df])"
   ]
  },
  {
   "cell_type": "code",
   "execution_count": 17,
   "metadata": {},
   "outputs": [
    {
     "data": {
      "text/plain": [
       "'Во втором квартале текущего года выручка компании \"Лукойл\" достигла исторического максимума. Этот успех обусловлен двумя ключевыми факторами: повышением стоимости нефти на мировом рынке и увеличением объемов реализации продукции. Оба этих фактора оказали положительное влияние на финансовые показатели компании, что свидетельствует о ее стабильности и успешности в текущих экономических условиях.'"
      ]
     },
     "execution_count": 17,
     "metadata": {},
     "output_type": "execute_result"
    }
   ],
   "source": [
    "final_df.reset_index(drop=True).loc[7,'text']"
   ]
  },
  {
   "cell_type": "markdown",
   "metadata": {},
   "source": [
    "Add news type"
   ]
  },
  {
   "cell_type": "code",
   "execution_count": null,
   "metadata": {},
   "outputs": [],
   "source": [
    "# Add a new column\n",
    "new_column_type = [[i]*20*4 for i in range(1,32)]\n",
    "new_column_type = list(np.array(new_column_type).flatten())\n",
    "\n",
    "final_df_copy = final_df.copy().reset_index(drop=True)\n",
    "final_df_copy['news_type'] = new_column_type"
   ]
  },
  {
   "cell_type": "code",
   "execution_count": null,
   "metadata": {},
   "outputs": [],
   "source": [
    "# Save\n",
    "final_df_copy.to_excel('generated_news.xlsx')"
   ]
  }
 ],
 "metadata": {
  "kernelspec": {
   "display_name": "transformers_2",
   "language": "python",
   "name": "python3"
  },
  "language_info": {
   "codemirror_mode": {
    "name": "ipython",
    "version": 3
   },
   "file_extension": ".py",
   "mimetype": "text/x-python",
   "name": "python",
   "nbconvert_exporter": "python",
   "pygments_lexer": "ipython3",
   "version": "3.11.5"
  }
 },
 "nbformat": 4,
 "nbformat_minor": 2
}
