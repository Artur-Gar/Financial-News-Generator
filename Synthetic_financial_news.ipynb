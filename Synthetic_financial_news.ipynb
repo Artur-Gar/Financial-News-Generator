{
 "cells": [
  {
   "cell_type": "code",
   "execution_count": 2,
   "metadata": {},
   "outputs": [],
   "source": [
    "import pandas as pd\n",
    "import yaml\n",
    "from tqdm.notebook import tqdm\n",
    "#from langchain.chat_models.gigachat import GigaChat\n",
    "#from langchain.schema import HumanMessage, SystemMessage\n",
    "import re\n",
    "\n",
    "from Gigachat_defs import llm_output, gigachat_stub"
   ]
  },
  {
   "cell_type": "markdown",
   "metadata": {},
   "source": [
    "Set global variables and read configuration data"
   ]
  },
  {
   "cell_type": "code",
   "execution_count": null,
   "metadata": {},
   "outputs": [],
   "source": [
    "## global variables\n",
    "config_path = r\"configs\\config.yml\"\n",
    "\n",
    "# few-shot examples\n",
    "few_shot = pd.read_excel(r\"data\\few_shot_2_each.xlsx\")\n",
    "\n",
    "# configs for the model\n",
    "with open(config_path) as fh:\n",
    "    read_config = yaml.load(fh, Loader=yaml.FullLoader)\n",
    "creds = read_config['creds']\n",
    "model = read_config['model']\n",
    "\n",
    "# prompt for few-shots\n",
    "system_prompt_news_path = read_config['system_prompt_news_path']\n",
    "with open(system_prompt_news_path, 'r', encoding=\"utf8\") as system_prompt_news_path:\n",
    "    system_prompt_news_template = system_prompt_news_path.read()\n",
    "\n",
    "# prompt for request\n",
    "prompt_path = read_config['prompt_path']\n",
    "with open(prompt_path, 'r', encoding=\"utf8\") as prompt_file:\n",
    "    prompt_template = prompt_file.read()\n",
    "\n",
    "# news types\n",
    "type_of_news_path = read_config['type_of_news_path']\n",
    "with open(type_of_news_path, 'r', encoding=\"utf8\") as type_of_news_file:\n",
    "    type_of_news = type_of_news_file.read()"
   ]
  },
  {
   "cell_type": "code",
   "execution_count": null,
   "metadata": {},
   "outputs": [],
   "source": [
    "# Let's create 10 positive and 10 negative prompts where sentiment can be distinguished by sign.  \n",
    "# Let's create 20 neutral (sign-free) prompts for the remaining cases. Those news types have # symbol before their names.\n",
    "\n",
    "type_of_news_1 = {f'{i+1}': news for i, news in enumerate(type_of_news.splitlines())}\n",
    "all_prompts = {}\n",
    "all_prompts_2 = {}\n",
    "\n",
    "for i in range(1, len(type_of_news.splitlines())+1):\n",
    "        \n",
    "        filter = (few_shot.iloc[:,1]==i).tolist()\n",
    "        two_shots = few_shot.iloc[filter,0].reset_index(drop=True)\n",
    "        \n",
    "        # generate 10 positive and neutral news items each  \n",
    "        if type_of_news_1[f'{i}'][0] != '#':\n",
    "            specific_prompt_news_template_pos = system_prompt_news_template.format(\n",
    "                num_and_sign = '10 positive',\n",
    "                news_type=type_of_news_1[f'{i}'], \n",
    "                News_1=two_shots[0], \n",
    "                News_2=two_shots[1], \n",
    "                )    \n",
    "                       \n",
    "            specific_prompt_news_template_neg = system_prompt_news_template.format(\n",
    "                num_and_sign = '10 negative',\n",
    "                news_type=type_of_news_1[f'{i}'], \n",
    "                News_1=two_shots[0], \n",
    "                News_2=two_shots[1],  \n",
    "                ) \n",
    "            \n",
    "            all_prompts[f'{i}_pos'] = specific_prompt_news_template_pos\n",
    "            all_prompts[f'{i}_neg'] = specific_prompt_news_template_neg\n",
    "\n",
    "        # 20 neutral news items for the remaining cases\n",
    "        else:\n",
    "            specific_prompt_news_template = system_prompt_news_template.format(\n",
    "                num_and_sign = '20',\n",
    "                news_type=type_of_news_1[f'{i}'][1:], \n",
    "                News_1=two_shots[0], \n",
    "                News_2=two_shots[1], \n",
    "                )    \n",
    "\n",
    "           \n",
    "            all_prompts[f'{i}'] = specific_prompt_news_template\n"
   ]
  },
  {
   "cell_type": "markdown",
   "metadata": {},
   "source": [
    "Заглушка для гигачата - с первого раза он никогда не работает, нужно один раз его запустить через try-except"
   ]
  },
  {
   "cell_type": "code",
   "execution_count": null,
   "metadata": {},
   "outputs": [],
   "source": [
    "# Function to extract the number before the '_' character\n",
    "def extract_number(s):\n",
    "    match = re.match(r'(\\d+)', s)\n",
    "    return match.group(1) if match else s"
   ]
  },
  {
   "cell_type": "code",
   "execution_count": 5,
   "metadata": {},
   "outputs": [
    {
     "name": "stderr",
     "output_type": "stream",
     "text": [
      "c:\\Programming\\venvs\\telegram_news\\Lib\\site-packages\\langchain_core\\_api\\deprecation.py:139: LangChainDeprecationWarning: The method `BaseChatModel.__call__` was deprecated in langchain-core 0.1.7 and will be removed in 0.3.0. Use invoke instead.\n",
      "  warn_deprecated(\n",
      "Giga generation stopped with reason: length\n"
     ]
    },
    {
     "name": "stdout",
     "output_type": "stream",
     "text": [
      "Росбанк является одним из крупнейших банков в России,\n"
     ]
    },
    {
     "data": {
      "text/plain": [
       "'Росбанк является одним из крупнейших банков в России,'"
      ]
     },
     "execution_count": 5,
     "metadata": {},
     "output_type": "execute_result"
    }
   ],
   "source": [
    "gigachat_stub(creds, model)()"
   ]
  },
  {
   "cell_type": "code",
   "execution_count": null,
   "metadata": {},
   "outputs": [
    {
     "data": {
      "application/vnd.jupyter.widget-view+json": {
       "model_id": "8f8493e841da4893bfb45a6eb24a323c",
       "version_major": 2,
       "version_minor": 0
      },
      "text/plain": [
       "  0%|          | 0/54 [00:00<?, ?it/s]"
      ]
     },
     "metadata": {},
     "output_type": "display_data"
    },
    {
     "name": "stdout",
     "output_type": "stream",
     "text": [
      "Совместный проект с другой компанией___2\n",
      "#Изменение бренда компании___2\n"
     ]
    }
   ],
   "source": [
    "# create final df\n",
    "final_df = pd.DataFrame({'type':[], 'No':[], 'text':[]})\n",
    "\n",
    "for prompt in tqdm(list(all_prompts.keys())):\n",
    "    \n",
    "    type = type_of_news_1[extract_number(prompt)]\n",
    "    \n",
    "    output = llm_output(type, \n",
    "                        all_prompts[prompt], \n",
    "                        prompt_template, \n",
    "                        temperature = 1.2)\n",
    "    output = output.replace('\\n\\n', '\\n')\n",
    "\n",
    "    # Remove the number at the beginning and split into lines\n",
    "    output = list(map( lambda x: x[3:], output.splitlines()))\n",
    "    curr_df = pd.DataFrame({'type':[], 'No':[], 'text':[]})\n",
    "    curr_df['text'] = output\n",
    "    curr_df['type'] = type\n",
    "    curr_df['No'] = [i for i in range(1, len(output)+1)]\n",
    "\n",
    "    final_df = pd.concat([final_df, curr_df])\n"
   ]
  },
  {
   "cell_type": "code",
   "execution_count": null,
   "metadata": {},
   "outputs": [
    {
     "data": {
      "text/plain": [
       "impact\n",
       "1.0    140\n",
       "0.8    140\n",
       "0.4     80\n",
       "0.6     80\n",
       "0.7     60\n",
       "0.2     60\n",
       "0.5     40\n",
       "0.3     20\n",
       "Name: count, dtype: int64"
      ]
     },
     "execution_count": 12,
     "metadata": {},
     "output_type": "execute_result"
    }
   ],
   "source": [
    "# # Create weights by news types\n",
    "\n",
    "final_df_copy = final_df.copy()\n",
    "\n",
    "weights = [1, 1, 1, 0.4, 0.8, 0.7, 0.4, 0.2, 0.8, 0.5, 0.8, 1, 0.8, 0.4, 0.3, 0.6, 0.7, 0.5, 1, 0.2, 0.6, 0.8, 0.8, 0.6, 1, 1, 0.8, 0.7, 0.4, 0.2, 0.6]\n",
    "types_2 = type_of_news.splitlines()\n",
    "new_column = {f'{types_2[i]}': weights[i] for i in range(len(types_2))}\n",
    "\n",
    "final_df_copy['impact'] = final_df_copy['type'].map(new_column)\n",
    "final_df_copy.loc[:,'impact'].value_counts()"
   ]
  },
  {
   "cell_type": "code",
   "execution_count": null,
   "metadata": {},
   "outputs": [
    {
     "data": {
      "text/plain": [
       "type\n",
       "Отчет о финансовых результатах                                           20\n",
       "Политическое событие                                                     20\n",
       "Изменение бренда компании                                                20\n",
       "Дробление / сплит / консолидация акций                                   20\n",
       "Эмиссия облигаций компании                                               20\n",
       "Объявление об SPO                                                        20\n",
       "Объявление об IPO                                                        20\n",
       "Слияние и поглощение                                                     20\n",
       "Изменение процентной ставки                                              20\n",
       "Создание нового проекта / кластера / строительства                       20\n",
       "Крупный заказ / госзаказ                                                 20\n",
       "Совместный проект с другой компанией                                     20\n",
       "Кадровое изменение в топ-менеджменте                                     20\n",
       "Исключение акций с биржевых торгов                                       20\n",
       "Торговое соглашения                                                      20\n",
       "Состояние банковского сектора                                            20\n",
       "Объявление о дивидендах                                                  20\n",
       "Тренды на рынке недвижимости                                             20\n",
       "Действие ключевых собственников                                          20\n",
       "Уровень корпоративного долга                                             20\n",
       "Дефолт по ценным бумагам                                                 20\n",
       "Изменение кредитного рейтинга                                            20\n",
       "Отчеты о розничных продажах                                              20\n",
       "Новые технологии и продукты компании                                     20\n",
       "Колебание курса валюты                                                   20\n",
       "Колебание цены на сырьевой товар                                         20\n",
       "Изменение регулирования в отрасли компании                               20\n",
       "Корпоративный скандал / привлечение к ответственности топ-менеджмента    20\n",
       "Включение / исключение ценных бумаг компании в рыночный индекс           20\n",
       "Выкуп акций                                                              20\n",
       "Инвестиции в капитал                                                     20\n",
       "Name: count, dtype: int64"
      ]
     },
     "execution_count": 21,
     "metadata": {},
     "output_type": "execute_result"
    }
   ],
   "source": [
    "# Remove '#' before news types\n",
    "final_df_copy['type'] = final_df_copy.loc[:,'type'].apply(lambda x: x.replace('#',''))\n",
    "\n",
    "# There should be 20 news items for each type\n",
    "final_df_copy.loc[:,'type'].value_counts()"
   ]
  },
  {
   "cell_type": "code",
   "execution_count": null,
   "metadata": {},
   "outputs": [],
   "source": [
    "# Save data\n",
    "final_df_copy.to_excel(r'data\\synthetic_news.xlsx')"
   ]
  }
 ],
 "metadata": {
  "kernelspec": {
   "display_name": "transformers_2",
   "language": "python",
   "name": "python3"
  },
  "language_info": {
   "codemirror_mode": {
    "name": "ipython",
    "version": 3
   },
   "file_extension": ".py",
   "mimetype": "text/x-python",
   "name": "python",
   "nbconvert_exporter": "python",
   "pygments_lexer": "ipython3",
   "version": "3.11.5"
  }
 },
 "nbformat": 4,
 "nbformat_minor": 2
}
